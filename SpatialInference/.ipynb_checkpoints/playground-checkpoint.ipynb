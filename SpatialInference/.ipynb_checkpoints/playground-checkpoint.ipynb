{
 "cells": [
  {
   "cell_type": "code",
   "execution_count": 2,
   "id": "692b85c6-35d1-4c41-9187-7ff4007888bb",
   "metadata": {
    "tags": []
   },
   "outputs": [
    {
     "data": {
      "text/plain": [
       "tensor([29.6260, 99.1064])"
      ]
     },
     "execution_count": 2,
     "metadata": {},
     "output_type": "execute_result"
    }
   ],
   "source": [
    "import pyro.distributions as dist\n",
    "import torch\n",
    "\n",
    "locs = torch.Tensor([1.0, 100.0])\n",
    "scales = torch.Tensor([30.0, 1.0])\n",
    "norm = dist.Normal(locs, scales)\n",
    "norm.sample()"
   ]
  },
  {
   "cell_type": "code",
   "execution_count": 9,
   "id": "4fc2841e-4cca-4caf-afaa-7dc9802635e3",
   "metadata": {
    "tags": []
   },
   "outputs": [
    {
     "data": {
      "text/plain": [
       "tensor([[[ 0.2581],\n",
       "         [-0.4610],\n",
       "         [-0.2130],\n",
       "         [ 0.2278],\n",
       "         [ 0.7082],\n",
       "         [ 0.0190],\n",
       "         [-1.2930],\n",
       "         [ 0.5650],\n",
       "         [ 0.3824],\n",
       "         [-0.8986]],\n",
       "\n",
       "        [[ 1.3381],\n",
       "         [-1.4721],\n",
       "         [ 0.7933],\n",
       "         [ 0.1573],\n",
       "         [ 0.6593],\n",
       "         [ 0.2080],\n",
       "         [ 0.2192],\n",
       "         [ 1.3438],\n",
       "         [ 0.8417],\n",
       "         [ 1.5652]],\n",
       "\n",
       "        [[-0.4900],\n",
       "         [-1.1387],\n",
       "         [-0.9301],\n",
       "         [ 0.3077],\n",
       "         [-0.8772],\n",
       "         [-0.0634],\n",
       "         [-0.5767],\n",
       "         [ 0.4420],\n",
       "         [ 0.9402],\n",
       "         [ 0.3156]],\n",
       "\n",
       "        [[ 0.3243],\n",
       "         [ 2.1264],\n",
       "         [ 0.1150],\n",
       "         [ 0.1013],\n",
       "         [-1.5483],\n",
       "         [-0.0920],\n",
       "         [ 0.5495],\n",
       "         [-0.7463],\n",
       "         [ 1.5188],\n",
       "         [ 0.7999]],\n",
       "\n",
       "        [[ 1.3455],\n",
       "         [-1.1304],\n",
       "         [-1.5979],\n",
       "         [ 1.6285],\n",
       "         [-0.0994],\n",
       "         [ 0.4527],\n",
       "         [-1.3554],\n",
       "         [-0.8715],\n",
       "         [ 1.3359],\n",
       "         [-1.1745]]])"
      ]
     },
     "execution_count": 9,
     "metadata": {},
     "output_type": "execute_result"
    }
   ],
   "source": [
    "norm = dist.Normal(torch.Tensor([0.]), torch.Tensor([1.]))\n",
    "norm.expand_by(torch.Size([5, 10])).sample()"
   ]
  },
  {
   "cell_type": "code",
   "execution_count": null,
   "id": "d03682bb-e9d6-44c9-bc9b-7ccccc6b2829",
   "metadata": {},
   "outputs": [],
   "source": []
  }
 ],
 "metadata": {
  "environment": {
   "kernel": "python3",
   "name": ".m113",
   "type": "gcloud",
   "uri": "gcr.io/deeplearning-platform-release/:m113"
  },
  "kernelspec": {
   "display_name": "Python 3",
   "language": "python",
   "name": "python3"
  },
  "language_info": {
   "codemirror_mode": {
    "name": "ipython",
    "version": 3
   },
   "file_extension": ".py",
   "mimetype": "text/x-python",
   "name": "python",
   "nbconvert_exporter": "python",
   "pygments_lexer": "ipython3",
   "version": "3.10.13"
  }
 },
 "nbformat": 4,
 "nbformat_minor": 5
}
